{
 "cells": [
  {
   "cell_type": "code",
   "execution_count": 23,
   "metadata": {
    "collapsed": true,
    "ExecuteTime": {
     "end_time": "2023-10-19T19:14:46.895924900Z",
     "start_time": "2023-10-19T19:14:46.880926700Z"
    }
   },
   "outputs": [],
   "source": [
    "from src.zero_shot_classification.model import Classificator\n",
    "import pandas as pd\n",
    "import time"
   ]
  },
  {
   "cell_type": "code",
   "execution_count": 24,
   "outputs": [],
   "source": [
    "model = Classificator(device=\"cuda\")\n",
    "model.init_classes(\"src/zero_shot_classification/classes.txt\")"
   ],
   "metadata": {
    "collapsed": false,
    "ExecuteTime": {
     "end_time": "2023-10-19T19:14:49.914898600Z",
     "start_time": "2023-10-19T19:14:47.229314100Z"
    }
   }
  },
  {
   "cell_type": "code",
   "execution_count": 25,
   "outputs": [],
   "source": [
    "file_path = \"data.xlsx\"\n",
    "df = pd.read_excel(file_path)"
   ],
   "metadata": {
    "collapsed": false,
    "ExecuteTime": {
     "end_time": "2023-10-19T19:14:50.099254900Z",
     "start_time": "2023-10-19T19:14:49.917898600Z"
    }
   }
  },
  {
   "cell_type": "code",
   "execution_count": 26,
   "outputs": [
    {
     "data": {
      "text/plain": "120"
     },
     "execution_count": 26,
     "metadata": {},
     "output_type": "execute_result"
    }
   ],
   "source": [
    "def get_text(row):\n",
    "    return f\"{row['key_skills_name']} {row['description']}\"\n",
    "\n",
    "inputs = df.apply(get_text, axis=1)\n",
    "inputs = inputs.tolist()\n",
    "len(inputs)"
   ],
   "metadata": {
    "collapsed": false,
    "ExecuteTime": {
     "end_time": "2023-10-19T19:14:50.116283800Z",
     "start_time": "2023-10-19T19:14:50.103254400Z"
    }
   }
  },
  {
   "cell_type": "code",
   "execution_count": 27,
   "outputs": [
    {
     "data": {
      "text/plain": "['Excel',\n 'Обработка данных',\n 'Python',\n 'бизнес-процессы',\n 'аналитика',\n 'Machine learning',\n 'эконометрика',\n 'Deep learning',\n 'программа 1С',\n 'SQL',\n 'Маркетинг',\n 'Программирование']"
     },
     "execution_count": 27,
     "metadata": {},
     "output_type": "execute_result"
    }
   ],
   "source": [
    "model.classes"
   ],
   "metadata": {
    "collapsed": false,
    "ExecuteTime": {
     "end_time": "2023-10-19T19:14:50.189546500Z",
     "start_time": "2023-10-19T19:14:50.118250200Z"
    }
   }
  },
  {
   "cell_type": "code",
   "execution_count": 28,
   "outputs": [
    {
     "name": "stdout",
     "output_type": "stream",
     "text": [
      "nan Приглашаем на работу специалиста в отдел логистики Обязанности:  Организация грузоперевозок до магазинов сети (Вологодская, Ярославская, Архангельская, Ивановская области) Орагнизация грузоперевозок оптовым клиентам Сети Разработка маршрутов перевозки грузов между региональными складами и точками выгрузки; Поиск новых перевозчиков; ведение переговоров и заключение договоров с ними; Контроль прохождения маршрута (погрузки/выгрузки); Проведение анализа затрат и издержек на транспортную и складскую логистику; Ведение документации по перевозкам.  Требования:  Опыт работы логистом от 1 года; Умение работать с большим объемом информации; Знание особенностей маршрутов и направлений грузоперевозок; Коммуникабельность, ответственность, внимательность, стрессоустойчивость; Уверенный пользователь ПК (программа 1С);  Условия:  Работа в крупной компании; Официальное оформление по ТК РФ, соцпакет; График работы: 5/2, с 9:00 до 18:00; Корпоративная мобильная связь \n",
      "\n",
      "['программа 1С', 'Обработка данных', 'Excel', 'аналитика', 'эконометрика']\n",
      "0.8657951354980469  сек\n"
     ]
    }
   ],
   "source": [
    "start_time = time.time()\n",
    "\n",
    "input_ = inputs[10]\n",
    "print(\n",
    "    input_,\n",
    "    model.predict(input_, thresh=0.1),\n",
    "    sep=\"\\n\\n\"\n",
    ")\n",
    "\n",
    "print(time.time() - start_time, \" сек\")"
   ],
   "metadata": {
    "collapsed": false,
    "ExecuteTime": {
     "end_time": "2023-10-19T19:14:55.219799500Z",
     "start_time": "2023-10-19T19:14:54.353015500Z"
    }
   }
  },
  {
   "cell_type": "code",
   "execution_count": 18,
   "outputs": [],
   "source": [],
   "metadata": {
    "collapsed": false,
    "ExecuteTime": {
     "end_time": "2023-10-19T19:13:53.971377400Z",
     "start_time": "2023-10-19T19:13:53.930531900Z"
    }
   }
  }
 ],
 "metadata": {
  "kernelspec": {
   "display_name": "Python 3",
   "language": "python",
   "name": "python3"
  },
  "language_info": {
   "codemirror_mode": {
    "name": "ipython",
    "version": 2
   },
   "file_extension": ".py",
   "mimetype": "text/x-python",
   "name": "python",
   "nbconvert_exporter": "python",
   "pygments_lexer": "ipython2",
   "version": "2.7.6"
  }
 },
 "nbformat": 4,
 "nbformat_minor": 0
}
