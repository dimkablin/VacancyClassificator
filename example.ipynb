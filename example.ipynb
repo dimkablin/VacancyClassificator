{
 "cells": [
  {
   "cell_type": "code",
   "execution_count": 1,
   "metadata": {
    "collapsed": true,
    "ExecuteTime": {
     "end_time": "2023-10-19T17:17:38.286701900Z",
     "start_time": "2023-10-19T17:17:31.852544300Z"
    }
   },
   "outputs": [],
   "source": [
    "from src.zero_shot_classification.model import Classificator\n",
    "import pandas as pd\n",
    "import time"
   ]
  },
  {
   "cell_type": "code",
   "execution_count": 2,
   "outputs": [],
   "source": [
    "model = Classificator(device=\"cpu\")\n",
    "model.init_classes(\"src/zero_shot_classification/classes.txt\")"
   ],
   "metadata": {
    "collapsed": false,
    "ExecuteTime": {
     "end_time": "2023-10-19T17:17:42.436098Z",
     "start_time": "2023-10-19T17:17:38.291810900Z"
    }
   }
  },
  {
   "cell_type": "code",
   "execution_count": 3,
   "outputs": [],
   "source": [
    "file_path = \"data.xlsx\"\n",
    "df = pd.read_excel(file_path)"
   ],
   "metadata": {
    "collapsed": false,
    "ExecuteTime": {
     "end_time": "2023-10-19T17:17:43.189657700Z",
     "start_time": "2023-10-19T17:17:42.440630Z"
    }
   }
  },
  {
   "cell_type": "code",
   "execution_count": 4,
   "outputs": [
    {
     "data": {
      "text/plain": "120"
     },
     "execution_count": 4,
     "metadata": {},
     "output_type": "execute_result"
    }
   ],
   "source": [
    "def get_text(row):\n",
    "    return f\"{row['key_skills_name']} {row['description']}\"\n",
    "\n",
    "inputs = df.apply(get_text, axis=1)\n",
    "inputs = inputs.tolist()\n",
    "len(inputs)"
   ],
   "metadata": {
    "collapsed": false,
    "ExecuteTime": {
     "end_time": "2023-10-19T17:17:43.205183100Z",
     "start_time": "2023-10-19T17:17:43.190662700Z"
    }
   }
  },
  {
   "cell_type": "code",
   "execution_count": 8,
   "outputs": [
    {
     "name": "stderr",
     "output_type": "stream",
     "text": [
      "C:\\Users\\dimka\\AppData\\Local\\Programs\\Python\\Python39\\lib\\site-packages\\transformers\\pipelines\\base.py:1101: UserWarning: You seem to be using the pipelines sequentially on GPU. In order to maximize efficiency please use a dataset\n",
      "  warnings.warn(\n"
     ]
    },
    {
     "name": "stdout",
     "output_type": "stream",
     "text": [
      "nan Обязанности:  Работа с действующей клиентской базой. Анализ и обработка заказов. Формирование и отправка коммерческих предложений. Полный документооборот. CRM. Взаимодействие с другими подразделениями компании (производство, региональные склады, головной офис). Взаимодействие с транспортными компаниями.  Требования:  Грамотная устная/письменная речь. Опыт работы в продажах. Знание этики делового общения и ведения телефонных переговоров Правила работы с ПК и офисной техникой Знание 1С 8  Условия:  Трудоустройство по ТК РФ, график работы 5/2 с 08-00 до 17-00, перерыв на обед с 13-00 до 14-00, выходные суббота- воскресенье. Корпоративный транспорт для проезда на работу. \n",
      "\n",
      "['Обработка данных', 'бизнес-процессы', 'аналитика']\n",
      "0.767216682434082  сек\n"
     ]
    }
   ],
   "source": [
    "start_time = time.time()\n",
    "\n",
    "input_ = inputs[5]\n",
    "print(\n",
    "    input_,\n",
    "    model.predict(input_, thresh=0.1),\n",
    "    sep=\"\\n\\n\"\n",
    ")\n",
    "\n",
    "print(time.time() - start_time, \" сек\")"
   ],
   "metadata": {
    "collapsed": false,
    "ExecuteTime": {
     "end_time": "2023-10-19T17:24:26.563655300Z",
     "start_time": "2023-10-19T17:24:25.792258900Z"
    }
   }
  },
  {
   "cell_type": "code",
   "execution_count": null,
   "outputs": [],
   "source": [],
   "metadata": {
    "collapsed": false,
    "is_executing": true
   }
  }
 ],
 "metadata": {
  "kernelspec": {
   "display_name": "Python 3",
   "language": "python",
   "name": "python3"
  },
  "language_info": {
   "codemirror_mode": {
    "name": "ipython",
    "version": 2
   },
   "file_extension": ".py",
   "mimetype": "text/x-python",
   "name": "python",
   "nbconvert_exporter": "python",
   "pygments_lexer": "ipython2",
   "version": "2.7.6"
  }
 },
 "nbformat": 4,
 "nbformat_minor": 0
}
