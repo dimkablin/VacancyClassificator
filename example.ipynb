{
 "cells": [
  {
   "cell_type": "markdown",
   "metadata": {},
   "source": [
    "# Zero Shot Classificator"
   ]
  },
  {
   "cell_type": "code",
   "execution_count": 1,
   "metadata": {
    "ExecuteTime": {
     "end_time": "2023-10-19T19:14:46.895924900Z",
     "start_time": "2023-10-19T19:14:46.880926700Z"
    },
    "collapsed": true
   },
   "outputs": [],
   "source": [
    "from src.zero_shot_classification.model import ZeroShotClassificator\n",
    "import pandas as pd\n",
    "import time"
   ]
  },
  {
   "cell_type": "code",
   "execution_count": 2,
   "metadata": {
    "ExecuteTime": {
     "end_time": "2023-10-19T19:14:49.914898600Z",
     "start_time": "2023-10-19T19:14:47.229314100Z"
    },
    "collapsed": false
   },
   "outputs": [],
   "source": [
    "model = ZeroShotClassificator(device=\"cuda\")\n",
    "model.init_classes(\"src/zero_shot_classification/classes.txt\")"
   ]
  },
  {
   "cell_type": "code",
   "execution_count": 3,
   "metadata": {
    "ExecuteTime": {
     "end_time": "2023-10-19T19:14:50.099254900Z",
     "start_time": "2023-10-19T19:14:49.917898600Z"
    },
    "collapsed": false
   },
   "outputs": [],
   "source": [
    "file_path = \"data.xlsx\"\n",
    "df = pd.read_excel(file_path)"
   ]
  },
  {
   "cell_type": "code",
   "execution_count": 4,
   "metadata": {
    "ExecuteTime": {
     "end_time": "2023-10-19T19:14:50.116283800Z",
     "start_time": "2023-10-19T19:14:50.103254400Z"
    },
    "collapsed": false
   },
   "outputs": [
    {
     "data": {
      "text/plain": [
       "120"
      ]
     },
     "execution_count": 4,
     "metadata": {},
     "output_type": "execute_result"
    }
   ],
   "source": [
    "def get_text(row):\n",
    "    return f\"{row['key_skills_name']} {row['description']}\"\n",
    "\n",
    "inputs = df.apply(get_text, axis=1)\n",
    "inputs = inputs.tolist()\n",
    "len(inputs)"
   ]
  },
  {
   "cell_type": "code",
   "execution_count": 5,
   "metadata": {
    "ExecuteTime": {
     "end_time": "2023-10-19T19:14:50.189546500Z",
     "start_time": "2023-10-19T19:14:50.118250200Z"
    },
    "collapsed": false
   },
   "outputs": [
    {
     "data": {
      "text/plain": [
       "['Excel',\n",
       " 'Обработка данных',\n",
       " 'Python',\n",
       " 'бизнес-процессы',\n",
       " 'аналитика',\n",
       " 'Machine learning',\n",
       " 'эконометрика',\n",
       " 'Deep learning',\n",
       " 'программа 1С',\n",
       " 'SQL',\n",
       " 'Маркетинг',\n",
       " 'Программирование']"
      ]
     },
     "execution_count": 5,
     "metadata": {},
     "output_type": "execute_result"
    }
   ],
   "source": [
    "model.classes"
   ]
  },
  {
   "cell_type": "code",
   "execution_count": 6,
   "metadata": {
    "ExecuteTime": {
     "end_time": "2023-10-19T19:14:55.219799500Z",
     "start_time": "2023-10-19T19:14:54.353015500Z"
    },
    "collapsed": false
   },
   "outputs": [
    {
     "name": "stdout",
     "output_type": "stream",
     "text": [
      "nan Приглашаем на работу специалиста в отдел логистики Обязанности:  Организация грузоперевозок до магазинов сети (Вологодская, Ярославская, Архангельская, Ивановская области) Орагнизация грузоперевозок оптовым клиентам Сети Разработка маршрутов перевозки грузов между региональными складами и точками выгрузки; Поиск новых перевозчиков; ведение переговоров и заключение договоров с ними; Контроль прохождения маршрута (погрузки/выгрузки); Проведение анализа затрат и издержек на транспортную и складскую логистику; Ведение документации по перевозкам.  Требования:  Опыт работы логистом от 1 года; Умение работать с большим объемом информации; Знание особенностей маршрутов и направлений грузоперевозок; Коммуникабельность, ответственность, внимательность, стрессоустойчивость; Уверенный пользователь ПК (программа 1С);  Условия:  Работа в крупной компании; Официальное оформление по ТК РФ, соцпакет; График работы: 5/2, с 9:00 до 18:00; Корпоративная мобильная связь \n",
      "\n",
      "['программа 1С', 'Обработка данных', 'Excel', 'аналитика', 'эконометрика']\n",
      "0.8013913631439209  сек\n"
     ]
    }
   ],
   "source": [
    "start_time = time.time()\n",
    "\n",
    "input_ = inputs[10]\n",
    "print(\n",
    "    input_,\n",
    "    model.predict(input_, thresh=0.1),\n",
    "    sep=\"\\n\\n\"\n",
    ")\n",
    "\n",
    "print(time.time() - start_time, \" сек\")"
   ]
  },
  {
   "cell_type": "markdown",
   "metadata": {},
   "source": [
    "# Semantic Search"
   ]
  },
  {
   "cell_type": "code",
   "execution_count": 17,
   "metadata": {
    "ExecuteTime": {
     "end_time": "2023-10-19T19:13:53.971377400Z",
     "start_time": "2023-10-19T19:13:53.930531900Z"
    },
    "collapsed": false
   },
   "outputs": [],
   "source": [
    "from src.semantic_search.model import SemanticClassificator\n",
    "\n",
    "model = SemanticClassificator()\n",
    "model.init_classes([\n",
    "    \"That is a happy dog\",\n",
    "    \"That is a very happy person\",\n",
    "    \"Today is a sunny day\"\n",
    "])"
   ]
  },
  {
   "cell_type": "code",
   "execution_count": 18,
   "metadata": {},
   "outputs": [
    {
     "name": "stdout",
     "output_type": "stream",
     "text": [
      "That is a happy person\n",
      "\n",
      "[{'class': 'That is a very happy person', 'similarity': 1.0000001}, {'class': 'That is a happy dog', 'similarity': 0.7167769}, {'class': 'Today is a sunny day', 'similarity': 0.51991117}]\n",
      "0.0029997825622558594  сек\n"
     ]
    }
   ],
   "source": [
    "start_time = time.time()\n",
    "\n",
    "input_ = \"That is a happy person\"\n",
    "print(\n",
    "    input_,\n",
    "    model.predict(input_),\n",
    "    sep=\"\\n\\n\"\n",
    ")\n",
    "\n",
    "print(time.time() - start_time, \" сек\")"
   ]
  },
  {
   "cell_type": "code",
   "execution_count": null,
   "metadata": {},
   "outputs": [],
   "source": []
  }
 ],
 "metadata": {
  "kernelspec": {
   "display_name": "Python 3",
   "language": "python",
   "name": "python3"
  },
  "language_info": {
   "codemirror_mode": {
    "name": "ipython",
    "version": 3
   },
   "file_extension": ".py",
   "mimetype": "text/x-python",
   "name": "python",
   "nbconvert_exporter": "python",
   "pygments_lexer": "ipython3",
   "version": "3.9.13"
  }
 },
 "nbformat": 4,
 "nbformat_minor": 0
}
