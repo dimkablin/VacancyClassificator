{
 "cells": [
  {
   "cell_type": "code",
   "execution_count": 1,
   "metadata": {
    "collapsed": true,
    "ExecuteTime": {
     "end_time": "2023-10-19T16:55:52.014339200Z",
     "start_time": "2023-10-19T16:55:46.851798200Z"
    }
   },
   "outputs": [],
   "source": [
    "from src.zero_shot_classification.model import Classificator\n",
    "import pandas as pd"
   ]
  },
  {
   "cell_type": "code",
   "execution_count": 2,
   "outputs": [],
   "source": [
    "model = Classificator()\n",
    "model.init_classes(\"src/zero_shot_classification/classes.txt\")"
   ],
   "metadata": {
    "collapsed": false,
    "ExecuteTime": {
     "end_time": "2023-10-19T16:55:55.490143600Z",
     "start_time": "2023-10-19T16:55:52.008786300Z"
    }
   }
  },
  {
   "cell_type": "code",
   "execution_count": 3,
   "outputs": [],
   "source": [
    "file_path = \"data.xlsx\"\n",
    "df = pd.read_excel(file_path)"
   ],
   "metadata": {
    "collapsed": false,
    "ExecuteTime": {
     "end_time": "2023-10-19T16:55:56.263786200Z",
     "start_time": "2023-10-19T16:55:55.491651800Z"
    }
   }
  },
  {
   "cell_type": "code",
   "execution_count": 4,
   "outputs": [
    {
     "data": {
      "text/plain": "120"
     },
     "execution_count": 4,
     "metadata": {},
     "output_type": "execute_result"
    }
   ],
   "source": [
    "def get_text(row):\n",
    "    return f\"{row['key_skills_name']} {row['description']}\"\n",
    "\n",
    "inputs = df.apply(get_text, axis=1)\n",
    "inputs = inputs.tolist()\n",
    "len(inputs)"
   ],
   "metadata": {
    "collapsed": false,
    "ExecuteTime": {
     "end_time": "2023-10-19T16:55:56.338071200Z",
     "start_time": "2023-10-19T16:55:56.268786900Z"
    }
   }
  },
  {
   "cell_type": "code",
   "execution_count": 5,
   "outputs": [
    {
     "name": "stdout",
     "output_type": "stream",
     "text": [
      "nan Обязанности:  Работа с действующей клиентской базой. Анализ и обработка заказов. Формирование и отправка коммерческих предложений. Полный документооборот. CRM. Взаимодействие с другими подразделениями компании (производство, региональные склады, головной офис). Взаимодействие с транспортными компаниями.  Требования:  Грамотная устная/письменная речь. Опыт работы в продажах. Знание этики делового общения и ведения телефонных переговоров Правила работы с ПК и офисной техникой Знание 1С 8  Условия:  Трудоустройство по ТК РФ, график работы 5/2 с 08-00 до 17-00, перерыв на обед с 13-00 до 14-00, выходные суббота- воскресенье. Корпоративный транспорт для проезда на работу. \n",
      "\n",
      "['Обработка данных', 'бизнес-процессы', 'аналитика']\n"
     ]
    }
   ],
   "source": [
    "input_ = inputs[5]\n",
    "print(\n",
    "    input_,\n",
    "    model.predict(input_, thresh=0.1),\n",
    "    sep=\"\\n\\n\"\n",
    ")"
   ],
   "metadata": {
    "collapsed": false,
    "ExecuteTime": {
     "end_time": "2023-10-19T16:55:57.088158500Z",
     "start_time": "2023-10-19T16:55:56.302463900Z"
    }
   }
  },
  {
   "cell_type": "code",
   "execution_count": 5,
   "outputs": [],
   "source": [],
   "metadata": {
    "collapsed": false,
    "ExecuteTime": {
     "end_time": "2023-10-19T16:55:57.104811200Z",
     "start_time": "2023-10-19T16:55:57.091859500Z"
    }
   }
  }
 ],
 "metadata": {
  "kernelspec": {
   "display_name": "Python 3",
   "language": "python",
   "name": "python3"
  },
  "language_info": {
   "codemirror_mode": {
    "name": "ipython",
    "version": 2
   },
   "file_extension": ".py",
   "mimetype": "text/x-python",
   "name": "python",
   "nbconvert_exporter": "python",
   "pygments_lexer": "ipython2",
   "version": "2.7.6"
  }
 },
 "nbformat": 4,
 "nbformat_minor": 0
}
