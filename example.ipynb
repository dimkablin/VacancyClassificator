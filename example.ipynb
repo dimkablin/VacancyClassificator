{
 "cells": [
  {
   "cell_type": "code",
   "execution_count": 1,
   "metadata": {
    "collapsed": true,
    "ExecuteTime": {
     "end_time": "2023-10-19T18:15:31.651773900Z",
     "start_time": "2023-10-19T18:15:27.617710700Z"
    }
   },
   "outputs": [],
   "source": [
    "from src.zero_shot_classification.model import Classificator\n",
    "import pandas as pd\n",
    "import time"
   ]
  },
  {
   "cell_type": "code",
   "execution_count": 2,
   "outputs": [],
   "source": [
    "model = Classificator(device=\"cuda\")\n",
    "model.init_classes(\"src/zero_shot_classification/classes.txt\")"
   ],
   "metadata": {
    "collapsed": false,
    "ExecuteTime": {
     "end_time": "2023-10-19T18:15:33.991228800Z",
     "start_time": "2023-10-19T18:15:31.656741600Z"
    }
   }
  },
  {
   "cell_type": "code",
   "execution_count": 3,
   "outputs": [],
   "source": [
    "file_path = \"data.xlsx\"\n",
    "df = pd.read_excel(file_path)"
   ],
   "metadata": {
    "collapsed": false,
    "ExecuteTime": {
     "end_time": "2023-10-19T18:15:34.675403300Z",
     "start_time": "2023-10-19T18:15:33.994228200Z"
    }
   }
  },
  {
   "cell_type": "code",
   "execution_count": 4,
   "outputs": [
    {
     "data": {
      "text/plain": "120"
     },
     "execution_count": 4,
     "metadata": {},
     "output_type": "execute_result"
    }
   ],
   "source": [
    "def get_text(row):\n",
    "    return f\"{row['key_skills_name']} {row['description']}\"\n",
    "\n",
    "inputs = df.apply(get_text, axis=1)\n",
    "inputs = inputs.tolist()\n",
    "len(inputs)"
   ],
   "metadata": {
    "collapsed": false,
    "ExecuteTime": {
     "end_time": "2023-10-19T18:15:34.693406900Z",
     "start_time": "2023-10-19T18:15:34.675403300Z"
    }
   }
  },
  {
   "cell_type": "code",
   "execution_count": 5,
   "outputs": [
    {
     "name": "stdout",
     "output_type": "stream",
     "text": [
      "nan Приглашаем на работу специалиста в отдел логистики Обязанности:  Организация грузоперевозок до магазинов сети (Вологодская, Ярославская, Архангельская, Ивановская области) Орагнизация грузоперевозок оптовым клиентам Сети Разработка маршрутов перевозки грузов между региональными складами и точками выгрузки; Поиск новых перевозчиков; ведение переговоров и заключение договоров с ними; Контроль прохождения маршрута (погрузки/выгрузки); Проведение анализа затрат и издержек на транспортную и складскую логистику; Ведение документации по перевозкам.  Требования:  Опыт работы логистом от 1 года; Умение работать с большим объемом информации; Знание особенностей маршрутов и направлений грузоперевозок; Коммуникабельность, ответственность, внимательность, стрессоустойчивость; Уверенный пользователь ПК (программа 1С);  Условия:  Работа в крупной компании; Официальное оформление по ТК РФ, соцпакет; График работы: 5/2, с 9:00 до 18:00; Корпоративная мобильная связь \n",
      "\n",
      "['программа 1С', 'Обработка данных', 'Excel', 'аналитика', 'эконометрика']\n",
      "0.7330174446105957  сек\n"
     ]
    }
   ],
   "source": [
    "start_time = time.time()\n",
    "\n",
    "input_ = inputs[10]\n",
    "print(\n",
    "    input_,\n",
    "    model.predict(input_, thresh=0.1),\n",
    "    sep=\"\\n\\n\"\n",
    ")\n",
    "\n",
    "print(time.time() - start_time, \" сек\")"
   ],
   "metadata": {
    "collapsed": false,
    "ExecuteTime": {
     "end_time": "2023-10-19T18:15:35.440499Z",
     "start_time": "2023-10-19T18:15:34.693406900Z"
    }
   }
  },
  {
   "cell_type": "code",
   "execution_count": 6,
   "outputs": [
    {
     "data": {
      "text/plain": "['Excel',\n 'Обработка данных',\n 'Python',\n 'бизнес-процессы',\n 'аналитика',\n 'Machine learning',\n 'эконометрика',\n 'Deep learning',\n 'программа 1С',\n 'SQL',\n 'Маркетинг',\n 'Программирование']"
     },
     "execution_count": 6,
     "metadata": {},
     "output_type": "execute_result"
    }
   ],
   "source": [
    "model.classes"
   ],
   "metadata": {
    "collapsed": false,
    "ExecuteTime": {
     "end_time": "2023-10-19T18:15:35.455511100Z",
     "start_time": "2023-10-19T18:15:35.443523300Z"
    }
   }
  },
  {
   "cell_type": "code",
   "execution_count": 7,
   "outputs": [],
   "source": [
    "from src.zero_shot_classification.model import Classificator\n",
    "model = Classificator(device=\"cuda\")\n",
    "model.init_classes([\"Python\", \"Excel\", \"программа 1С\", \"Маркетинг\", \"Machine learning\"])\n",
    "\n",
    "pred = model.predict(\n",
    "    text=\"Приглашаем на работу специалиста в отдел логистики. Организация грузоперевозок до магазинов сети. Требования: Опыт работы логистом от 1 года; Умение работать с большим объемом информации; Знание особенностей маршрутов и направлений грузоперевозок; Коммуникабельность, ответственность внимательность, стрессоустойчивость; Уверенный пользователь ПК (программа 1С);\",\n",
    "    thresh=0.5\n",
    ")"
   ],
   "metadata": {
    "collapsed": false,
    "ExecuteTime": {
     "end_time": "2023-10-19T18:15:37.566730900Z",
     "start_time": "2023-10-19T18:15:35.460513500Z"
    }
   }
  },
  {
   "cell_type": "code",
   "execution_count": 8,
   "outputs": [
    {
     "data": {
      "text/plain": "['программа 1С']"
     },
     "execution_count": 8,
     "metadata": {},
     "output_type": "execute_result"
    }
   ],
   "source": [
    "pred"
   ],
   "metadata": {
    "collapsed": false,
    "ExecuteTime": {
     "end_time": "2023-10-19T18:16:08.100253500Z",
     "start_time": "2023-10-19T18:16:08.062252200Z"
    }
   }
  },
  {
   "cell_type": "code",
   "execution_count": null,
   "outputs": [],
   "source": [],
   "metadata": {
    "collapsed": false
   }
  }
 ],
 "metadata": {
  "kernelspec": {
   "display_name": "Python 3",
   "language": "python",
   "name": "python3"
  },
  "language_info": {
   "codemirror_mode": {
    "name": "ipython",
    "version": 2
   },
   "file_extension": ".py",
   "mimetype": "text/x-python",
   "name": "python",
   "nbconvert_exporter": "python",
   "pygments_lexer": "ipython2",
   "version": "2.7.6"
  }
 },
 "nbformat": 4,
 "nbformat_minor": 0
}
