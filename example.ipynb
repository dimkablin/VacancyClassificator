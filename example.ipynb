{
 "cells": [
  {
   "cell_type": "markdown",
   "metadata": {},
   "source": [
    "# Zero Shot Classificator"
   ]
  },
  {
   "cell_type": "code",
   "execution_count": 1,
   "metadata": {
    "ExecuteTime": {
     "end_time": "2023-10-19T19:14:46.895924900Z",
     "start_time": "2023-10-19T19:14:46.880926700Z"
    },
    "collapsed": true
   },
   "outputs": [],
   "source": [
    "from src.zero_shot_classification.model import ZeroShotClassificator\n",
    "import pandas as pd\n",
    "import time"
   ]
  },
  {
   "cell_type": "code",
   "execution_count": 2,
   "metadata": {
    "ExecuteTime": {
     "end_time": "2023-10-19T19:14:49.914898600Z",
     "start_time": "2023-10-19T19:14:47.229314100Z"
    },
    "collapsed": false
   },
   "outputs": [
    {
     "data": {
      "application/vnd.jupyter.widget-view+json": {
       "model_id": "3102c16b9ef8410b8cfed93c284aeb46",
       "version_major": 2,
       "version_minor": 0
      },
      "text/plain": [
       "Downloading config.json:   0%|          | 0.00/1.09k [00:00<?, ?B/s]"
      ]
     },
     "metadata": {},
     "output_type": "display_data"
    },
    {
     "name": "stderr",
     "output_type": "stream",
     "text": [
      "C:\\Users\\dimka\\AppData\\Roaming\\Python\\Python39\\site-packages\\huggingface_hub\\file_download.py:133: UserWarning: `huggingface_hub` cache-system uses symlinks by default to efficiently store duplicated files but your machine does not support them in C:\\Users\\dimka\\.cache\\huggingface\\hub. Caching files will still work but in a degraded version that might require more space on your disk. This warning can be disabled by setting the `HF_HUB_DISABLE_SYMLINKS_WARNING` environment variable. For more details, see https://huggingface.co/docs/huggingface_hub/how-to-cache#limitations.\n",
      "To support symlinks on Windows, you either need to activate Developer Mode or to run Python as an administrator. In order to see activate developer mode, see this article: https://docs.microsoft.com/en-us/windows/apps/get-started/enable-your-device-for-development\n",
      "  warnings.warn(message)\n"
     ]
    },
    {
     "data": {
      "application/vnd.jupyter.widget-view+json": {
       "model_id": "b410d897c1764e7eb22892432990d41a",
       "version_major": 2,
       "version_minor": 0
      },
      "text/plain": [
       "Downloading model.safetensors:   0%|          | 0.00/558M [00:00<?, ?B/s]"
      ]
     },
     "metadata": {},
     "output_type": "display_data"
    },
    {
     "data": {
      "application/vnd.jupyter.widget-view+json": {
       "model_id": "0ebf63485172405db96b7a7d1ae6623b",
       "version_major": 2,
       "version_minor": 0
      },
      "text/plain": [
       "Downloading tokenizer_config.json:   0%|          | 0.00/467 [00:00<?, ?B/s]"
      ]
     },
     "metadata": {},
     "output_type": "display_data"
    },
    {
     "data": {
      "application/vnd.jupyter.widget-view+json": {
       "model_id": "4dc7bf9f46394e808f07e25284bd6ba4",
       "version_major": 2,
       "version_minor": 0
      },
      "text/plain": [
       "Downloading spm.model:   0%|          | 0.00/4.31M [00:00<?, ?B/s]"
      ]
     },
     "metadata": {},
     "output_type": "display_data"
    },
    {
     "data": {
      "application/vnd.jupyter.widget-view+json": {
       "model_id": "dfb49285defa467b943c90306cc0b0ac",
       "version_major": 2,
       "version_minor": 0
      },
      "text/plain": [
       "Downloading tokenizer.json:   0%|          | 0.00/16.3M [00:00<?, ?B/s]"
      ]
     },
     "metadata": {},
     "output_type": "display_data"
    },
    {
     "data": {
      "application/vnd.jupyter.widget-view+json": {
       "model_id": "4491db2710f04044878bee5c8e73ae7b",
       "version_major": 2,
       "version_minor": 0
      },
      "text/plain": [
       "Downloading added_tokens.json:   0%|          | 0.00/23.0 [00:00<?, ?B/s]"
      ]
     },
     "metadata": {},
     "output_type": "display_data"
    },
    {
     "data": {
      "application/vnd.jupyter.widget-view+json": {
       "model_id": "4084458072ec435494eb5c685f72fb0d",
       "version_major": 2,
       "version_minor": 0
      },
      "text/plain": [
       "Downloading (…)cial_tokens_map.json:   0%|          | 0.00/173 [00:00<?, ?B/s]"
      ]
     },
     "metadata": {},
     "output_type": "display_data"
    }
   ],
   "source": [
    "model = ZeroShotClassificator(device=\"cuda\")\n",
    "model.init_classes(\"src/zero_shot_classification/classes.txt\")"
   ]
  },
  {
   "cell_type": "code",
   "execution_count": 3,
   "metadata": {
    "ExecuteTime": {
     "end_time": "2023-10-19T19:14:50.099254900Z",
     "start_time": "2023-10-19T19:14:49.917898600Z"
    },
    "collapsed": false
   },
   "outputs": [],
   "source": [
    "file_path = \"data.xlsx\"\n",
    "df = pd.read_excel(file_path)"
   ]
  },
  {
   "cell_type": "code",
   "execution_count": 4,
   "metadata": {
    "ExecuteTime": {
     "end_time": "2023-10-19T19:14:50.116283800Z",
     "start_time": "2023-10-19T19:14:50.103254400Z"
    },
    "collapsed": false
   },
   "outputs": [
    {
     "data": {
      "text/plain": [
       "120"
      ]
     },
     "execution_count": 4,
     "metadata": {},
     "output_type": "execute_result"
    }
   ],
   "source": [
    "def get_text(row):\n",
    "    return f\"{row['key_skills_name']} {row['description']}\"\n",
    "\n",
    "inputs = df.apply(get_text, axis=1)\n",
    "inputs = inputs.tolist()\n",
    "len(inputs)"
   ]
  },
  {
   "cell_type": "code",
   "execution_count": 5,
   "metadata": {
    "ExecuteTime": {
     "end_time": "2023-10-19T19:14:50.189546500Z",
     "start_time": "2023-10-19T19:14:50.118250200Z"
    },
    "collapsed": false
   },
   "outputs": [
    {
     "data": {
      "text/plain": [
       "['Excel',\n",
       " 'Обработка данных',\n",
       " 'Python',\n",
       " 'бизнес-процессы',\n",
       " 'аналитика',\n",
       " 'Machine learning',\n",
       " 'эконометрика',\n",
       " 'Deep learning',\n",
       " 'программа 1С',\n",
       " 'SQL',\n",
       " 'Маркетинг',\n",
       " 'Программирование']"
      ]
     },
     "execution_count": 5,
     "metadata": {},
     "output_type": "execute_result"
    }
   ],
   "source": [
    "model.classes"
   ]
  },
  {
   "cell_type": "code",
   "execution_count": 6,
   "metadata": {
    "ExecuteTime": {
     "end_time": "2023-10-19T19:14:55.219799500Z",
     "start_time": "2023-10-19T19:14:54.353015500Z"
    },
    "collapsed": false
   },
   "outputs": [
    {
     "name": "stdout",
     "output_type": "stream",
     "text": [
      "nan Приглашаем на работу специалиста в отдел логистики Обязанности:  Организация грузоперевозок до магазинов сети (Вологодская, Ярославская, Архангельская, Ивановская области) Орагнизация грузоперевозок оптовым клиентам Сети Разработка маршрутов перевозки грузов между региональными складами и точками выгрузки; Поиск новых перевозчиков; ведение переговоров и заключение договоров с ними; Контроль прохождения маршрута (погрузки/выгрузки); Проведение анализа затрат и издержек на транспортную и складскую логистику; Ведение документации по перевозкам.  Требования:  Опыт работы логистом от 1 года; Умение работать с большим объемом информации; Знание особенностей маршрутов и направлений грузоперевозок; Коммуникабельность, ответственность, внимательность, стрессоустойчивость; Уверенный пользователь ПК (программа 1С);  Условия:  Работа в крупной компании; Официальное оформление по ТК РФ, соцпакет; График работы: 5/2, с 9:00 до 18:00; Корпоративная мобильная связь \n",
      "\n",
      "['Обработка данных', 'программа 1С', 'Программирование', 'бизнес-процессы']\n",
      "1.4575200080871582  сек\n"
     ]
    }
   ],
   "source": [
    "start_time = time.time()\n",
    "\n",
    "input_ = inputs[10]\n",
    "print(\n",
    "    input_,\n",
    "    model.predict(input_, thresh=0.1),\n",
    "    sep=\"\\n\\n\"\n",
    ")\n",
    "\n",
    "print(time.time() - start_time, \" сек\")"
   ]
  },
  {
   "cell_type": "markdown",
   "metadata": {},
   "source": [
    "# Semantic Search"
   ]
  },
  {
   "cell_type": "code",
   "execution_count": 1,
   "metadata": {
    "ExecuteTime": {
     "end_time": "2023-10-19T19:13:53.971377400Z",
     "start_time": "2023-10-19T19:13:53.930531900Z"
    },
    "collapsed": false
   },
   "outputs": [
    {
     "data": {
      "application/vnd.jupyter.widget-view+json": {
       "model_id": "bf3e17522c544f73b6afa9b7bc86db55",
       "version_major": 2,
       "version_minor": 0
      },
      "text/plain": [
       "Downloading tokenizer_config.json:   0%|          | 0.00/49.0 [00:00<?, ?B/s]"
      ]
     },
     "metadata": {},
     "output_type": "display_data"
    },
    {
     "name": "stderr",
     "output_type": "stream",
     "text": [
      "C:\\Users\\dimka\\AppData\\Roaming\\Python\\Python39\\site-packages\\huggingface_hub\\file_download.py:133: UserWarning: `huggingface_hub` cache-system uses symlinks by default to efficiently store duplicated files but your machine does not support them in C:\\Users\\dimka\\.cache\\huggingface\\hub. Caching files will still work but in a degraded version that might require more space on your disk. This warning can be disabled by setting the `HF_HUB_DISABLE_SYMLINKS_WARNING` environment variable. For more details, see https://huggingface.co/docs/huggingface_hub/how-to-cache#limitations.\n",
      "To support symlinks on Windows, you either need to activate Developer Mode or to run Python as an administrator. In order to see activate developer mode, see this article: https://docs.microsoft.com/en-us/windows/apps/get-started/enable-your-device-for-development\n",
      "  warnings.warn(message)\n"
     ]
    },
    {
     "data": {
      "application/vnd.jupyter.widget-view+json": {
       "model_id": "ef264daa808040e883c2a944e3647921",
       "version_major": 2,
       "version_minor": 0
      },
      "text/plain": [
       "Downloading config.json:   0%|          | 0.00/806 [00:00<?, ?B/s]"
      ]
     },
     "metadata": {},
     "output_type": "display_data"
    },
    {
     "data": {
      "application/vnd.jupyter.widget-view+json": {
       "model_id": "17a4975fade740e9a36ffbbc0a4cafd6",
       "version_major": 2,
       "version_minor": 0
      },
      "text/plain": [
       "Downloading vocab.txt:   0%|          | 0.00/521k [00:00<?, ?B/s]"
      ]
     },
     "metadata": {},
     "output_type": "display_data"
    },
    {
     "data": {
      "application/vnd.jupyter.widget-view+json": {
       "model_id": "e1a4caa8d4af43a4bc5315fd54111ab9",
       "version_major": 2,
       "version_minor": 0
      },
      "text/plain": [
       "Downloading (…)cial_tokens_map.json:   0%|          | 0.00/112 [00:00<?, ?B/s]"
      ]
     },
     "metadata": {},
     "output_type": "display_data"
    },
    {
     "data": {
      "application/vnd.jupyter.widget-view+json": {
       "model_id": "01b20fa02ebd4483ab2a1b6064f92015",
       "version_major": 2,
       "version_minor": 0
      },
      "text/plain": [
       "Downloading model.safetensors:   0%|          | 0.00/516M [00:00<?, ?B/s]"
      ]
     },
     "metadata": {},
     "output_type": "display_data"
    }
   ],
   "source": [
    "from src.semantic_search.model import SemanticClassificator\n",
    "\n",
    "model = SemanticClassificator()\n",
    "model.init_classes([\n",
    "    \"That is a happy dog\",\n",
    "    \"That is a very happy person\",\n",
    "    \"Today is a sunny day\"\n",
    "])"
   ]
  },
  {
   "cell_type": "code",
   "execution_count": 4,
   "metadata": {},
   "outputs": [
    {
     "name": "stdout",
     "output_type": "stream",
     "text": [
      "That is a happy person\n",
      "\n",
      "[{'class': 'That is a very happy person', 'similarity': 0.8970393}, {'class': 'That is a happy dog', 'similarity': 0.741066}, {'class': 'Today is a sunny day', 'similarity': 0.44954008}]\n",
      "0.05700421333312988  сек\n"
     ]
    }
   ],
   "source": [
    "start_time = time.time()\n",
    "\n",
    "input_ = \"That is a happy person\"\n",
    "print(\n",
    "    input_,\n",
    "    model.predict(input_),\n",
    "    sep=\"\\n\\n\"\n",
    ")\n",
    "\n",
    "print(time.time() - start_time, \" сек\")"
   ]
  },
  {
   "cell_type": "code",
   "execution_count": 8,
   "metadata": {},
   "outputs": [],
   "source": [
    "model.init_classes(\"src/zero_shot_classification/classes.txt\")"
   ]
  },
  {
   "cell_type": "code",
   "execution_count": 9,
   "metadata": {},
   "outputs": [
    {
     "name": "stdout",
     "output_type": "stream",
     "text": [
      "nan Приглашаем на работу специалиста в отдел логистики Обязанности:  Организация грузоперевозок до магазинов сети (Вологодская, Ярославская, Архангельская, Ивановская области) Орагнизация грузоперевозок оптовым клиентам Сети Разработка маршрутов перевозки грузов между региональными складами и точками выгрузки; Поиск новых перевозчиков; ведение переговоров и заключение договоров с ними; Контроль прохождения маршрута (погрузки/выгрузки); Проведение анализа затрат и издержек на транспортную и складскую логистику; Ведение документации по перевозкам.  Требования:  Опыт работы логистом от 1 года; Умение работать с большим объемом информации; Знание особенностей маршрутов и направлений грузоперевозок; Коммуникабельность, ответственность, внимательность, стрессоустойчивость; Уверенный пользователь ПК (программа 1С);  Условия:  Работа в крупной компании; Официальное оформление по ТК РФ, соцпакет; График работы: 5/2, с 9:00 до 18:00; Корпоративная мобильная связь \n",
      "\n",
      "[{'class': 'бизнес-процессы', 'similarity': 0.32238153}, {'class': 'Маркетинг', 'similarity': 0.2910333}, {'class': 'Программирование', 'similarity': 0.25044984}, {'class': 'аналитика', 'similarity': 0.22332452}, {'class': 'программа 1С', 'similarity': 0.21435456}, {'class': 'Обработка данных', 'similarity': 0.2088263}, {'class': 'SQL', 'similarity': 0.16690482}, {'class': 'Machine learning', 'similarity': 0.112907216}]\n",
      "0.1850442886352539  сек\n"
     ]
    }
   ],
   "source": [
    "start_time = time.time()\n",
    "\n",
    "input_ = inputs[10]\n",
    "print(\n",
    "    input_,\n",
    "    model.predict(input_, thresh=0.1),\n",
    "    sep=\"\\n\\n\"\n",
    ")\n",
    "\n",
    "print(time.time() - start_time, \" сек\")"
   ]
  },
  {
   "cell_type": "code",
   "execution_count": 7,
   "metadata": {},
   "outputs": [
    {
     "name": "stdout",
     "output_type": "stream",
     "text": [
      "['бизнес-процессы']\n",
      "1.3333070278167725  сек\n"
     ]
    }
   ],
   "source": [
    "input_ = \"Обязанности:  анализ рисков инвестиционных проектов, в том числе с государственным финансированием; подготовка заключений о целесообразности реализации инвестиционных проектов; участие в разработке нормативных правовых актов в сфере инвестиций и разработка предложений по совершенствованию законодательства в сфере инвестиций; участие в разработке ключевых показателей эффективности институтов развития и государственных компаний; подготовка позиций Министерства для участия в работе органов корпоративного управления ДОМ.РФ.  Требования:  высшее образование по специальности &quot;Экономика&quot;; опыт работы по специальности от 5-ти лет; опыт финансового анализа; опыт оценки и анализа инвестиционных проектов; знание Бюджетного и Налогового кодекса Российской Федерации; работа с Excel.  Условия:  оформление в соответствии с ТК РФ; стабильная белая заработная плата; график работы 5/2; интересные и глобальные задачи; сильная команда и развитая корпоративная культура; полный соцпакет, отпуск 30+ дней, медицинское обслуживание, санаторно-курортное обеспечение; конкурс на данную вакансию не проводится, т.к. при назначении на должность предусмотрена процедура оформления допуска к сведениям, составляющим государственную тайну и соответствующие проверочные мероприятия.Для рассмотрения кандидатуры необходимо направить отклик через личный кабинет HH.ru.Информация о состоянии рассмотрения кандидатур размещается в соответствующем разделе &quot;личного кабинета&quot;.  \"\n",
    "\n",
    "start_time = time.time()\n",
    "print(model.predict(input_, thresh=0.1))\n",
    "print(time.time() - start_time, \" сек\")"
   ]
  },
  {
   "cell_type": "code",
   "execution_count": 8,
   "metadata": {},
   "outputs": [
    {
     "name": "stdout",
     "output_type": "stream",
     "text": [
      "['Обработка данных', 'Программирование']\n",
      "1.0168766975402832  сек\n"
     ]
    }
   ],
   "source": [
    "input_ = \"Составление смет,Сметы,Проектная документация,MS Access,Adobe Acrobat Обязанности: - Составление смет различного характера в специальных программах (Smeta.RU), по проектам, дефектным ведомостям. - Составление актов по формам КС-2, КС-3. - Подготовка исходных данных для калькуляции стоимости работ всех типов по смете, внесение поправок в расчеты по смете при корректировке объемов работ или их стоимостных показателей. - Определение проектных и фактических объемов работ на основании проектной документации. - Проведение конъюнктурного анализа цен. Требования: - Высшее теxничeскоe/стpoительное образование. - Знание сметных норм в строительстве, опыт составления смет по чертежам, специальной документации и ведомостям объёма работ. - Составление КС-2, КС-3. Умение отстаивать расценки и объёмы работ перед Заказчиком. - Опыт работы от 3 лет. Условия: - Работа в стабильной строительной Компании (дочернее предприятие крупнейшего инжинирингового холдинга АО &quot;Мосинжпроект&quot;). - График работы: 5/2 с 8:30-17:30. - ДМС. - Полное соблюдение ТК РФ - отпуск, официальная заработная плата, больничный лист.\"\n",
    "\n",
    "start_time = time.time()\n",
    "print(model.predict(input_, thresh=0.1))\n",
    "print(time.time() - start_time, \" сек\")"
   ]
  },
  {
   "cell_type": "code",
   "execution_count": null,
   "metadata": {},
   "outputs": [],
   "source": []
  }
 ],
 "metadata": {
  "kernelspec": {
   "display_name": "Python 3",
   "language": "python",
   "name": "python3"
  },
  "language_info": {
   "codemirror_mode": {
    "name": "ipython",
    "version": 3
   },
   "file_extension": ".py",
   "mimetype": "text/x-python",
   "name": "python",
   "nbconvert_exporter": "python",
   "pygments_lexer": "ipython3",
   "version": "3.9.13"
  }
 },
 "nbformat": 4,
 "nbformat_minor": 0
}
