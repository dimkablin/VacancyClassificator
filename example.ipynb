{
 "cells": [
  {
   "cell_type": "code",
   "execution_count": 1,
   "metadata": {
    "collapsed": true,
    "ExecuteTime": {
     "end_time": "2023-10-19T17:41:17.983885Z",
     "start_time": "2023-10-19T17:41:12.483070600Z"
    }
   },
   "outputs": [],
   "source": [
    "from src.zero_shot_classification.model import Classificator\n",
    "import pandas as pd\n",
    "import time"
   ]
  },
  {
   "cell_type": "code",
   "execution_count": 5,
   "outputs": [],
   "source": [
    "model = Classificator(device=\"cuda\")\n",
    "model.init_classes(\"src/zero_shot_classification/classes.txt\")"
   ],
   "metadata": {
    "collapsed": false,
    "ExecuteTime": {
     "end_time": "2023-10-19T17:42:33.881651800Z",
     "start_time": "2023-10-19T17:42:28.452122900Z"
    }
   }
  },
  {
   "cell_type": "code",
   "execution_count": 6,
   "outputs": [],
   "source": [
    "file_path = \"data.xlsx\"\n",
    "df = pd.read_excel(file_path)"
   ],
   "metadata": {
    "collapsed": false,
    "ExecuteTime": {
     "end_time": "2023-10-19T17:42:37.373556100Z",
     "start_time": "2023-10-19T17:42:36.242729200Z"
    }
   }
  },
  {
   "cell_type": "code",
   "execution_count": 7,
   "outputs": [
    {
     "data": {
      "text/plain": "120"
     },
     "execution_count": 7,
     "metadata": {},
     "output_type": "execute_result"
    }
   ],
   "source": [
    "def get_text(row):\n",
    "    return f\"{row['key_skills_name']} {row['description']}\"\n",
    "\n",
    "inputs = df.apply(get_text, axis=1)\n",
    "inputs = inputs.tolist()\n",
    "len(inputs)"
   ],
   "metadata": {
    "collapsed": false,
    "ExecuteTime": {
     "end_time": "2023-10-19T17:42:37.459076200Z",
     "start_time": "2023-10-19T17:42:37.375556200Z"
    }
   }
  },
  {
   "cell_type": "code",
   "execution_count": 10,
   "outputs": [
    {
     "name": "stdout",
     "output_type": "stream",
     "text": [
      "nan Обязанности:  Работа с действующей клиентской базой. Анализ и обработка заказов. Формирование и отправка коммерческих предложений. Полный документооборот. CRM. Взаимодействие с другими подразделениями компании (производство, региональные склады, головной офис). Взаимодействие с транспортными компаниями.  Требования:  Грамотная устная/письменная речь. Опыт работы в продажах. Знание этики делового общения и ведения телефонных переговоров Правила работы с ПК и офисной техникой Знание 1С 8  Условия:  Трудоустройство по ТК РФ, график работы 5/2 с 08-00 до 17-00, перерыв на обед с 13-00 до 14-00, выходные суббота- воскресенье. Корпоративный транспорт для проезда на работу. \n",
      "\n",
      "['Обработка данных']\n",
      "0.6786835193634033  сек\n"
     ]
    }
   ],
   "source": [
    "start_time = time.time()\n",
    "\n",
    "input_ = inputs[5]\n",
    "print(\n",
    "    input_,\n",
    "    model.predict(input_, thresh=0.1),\n",
    "    sep=\"\\n\\n\"\n",
    ")\n",
    "\n",
    "print(time.time() - start_time, \" сек\")"
   ],
   "metadata": {
    "collapsed": false,
    "ExecuteTime": {
     "end_time": "2023-10-19T17:42:53.522540Z",
     "start_time": "2023-10-19T17:42:52.826131900Z"
    }
   }
  },
  {
   "cell_type": "code",
   "execution_count": null,
   "outputs": [],
   "source": [],
   "metadata": {
    "collapsed": false
   }
  }
 ],
 "metadata": {
  "kernelspec": {
   "display_name": "Python 3",
   "language": "python",
   "name": "python3"
  },
  "language_info": {
   "codemirror_mode": {
    "name": "ipython",
    "version": 2
   },
   "file_extension": ".py",
   "mimetype": "text/x-python",
   "name": "python",
   "nbconvert_exporter": "python",
   "pygments_lexer": "ipython2",
   "version": "2.7.6"
  }
 },
 "nbformat": 4,
 "nbformat_minor": 0
}
